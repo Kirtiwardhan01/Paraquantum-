{
  "nbformat": 4,
  "nbformat_minor": 0,
  "metadata": {
    "colab": {
      "name": "Tf-IDF.ipynb",
      "provenance": [],
      "authorship_tag": "ABX9TyN0ySbdTCWPqj0OdxXWahH4"
    },
    "kernelspec": {
      "name": "python3",
      "display_name": "Python 3"
    },
    "language_info": {
      "name": "python"
    }
  },
  "cells": [
    {
      "cell_type": "markdown",
      "metadata": {
        "id": "ZmQGf-70uFdm"
      },
      "source": [
        "TF-IDF stands for Term Frequency Inverse Document Frequency of records. \n",
        "\n",
        "It can be defined as the calculation of how relevant a word in a series or corpus is to a text. \n",
        "\n",
        "The meaning increases proportionally to the number of times in the text a word appears but is compensated by the word frequency in the corpus (data-set)\n",
        "\n",
        "**Terminologies:**\n",
        "\n",
        "1. Term Frequency: In document d, the frequency represents the number of instances of a given word t. Therefore, we can see that it becomes more relevant when a word appears in the text, which is rational. Since the ordering of terms is not significant, we can use a vector to describe the text in the bag of term models. For each specific term in the paper, there is an entry with the value being the term frequency.\n",
        "\n",
        "The weight of a term that occurs in a document is simply proportional to the term frequency.\n",
        "\n",
        "**tf(t,d) = count of t in d / number of words in d**\n",
        "\n",
        "2. Document Frequency: This tests the meaning of the text, which is very similar to TF, in the whole corpus collection. The only difference is that in document d, TF is the frequency counter for a term t, while df is the number of occurrences in the document set N of the term t. In other words, the number of papers in which the word is present is DF.\n",
        "\n",
        "**df(t) = occurrence of t in documents**\n",
        "\n",
        "3. Inverse Document Frequency: Mainly, it tests how relevant the word is. The key aim of the search is to locate the appropriate records that fit the demand. Since tf considers all terms equally significant, it is therefore not only possible to use the term frequencies to measure the weight of the term in the paper. First, find the document frequency of a term t by counting the number of documents containing the term:\n",
        "\n",
        "**df(t) = N(t) where**\n",
        "\n",
        "**df(t) = Document frequency of a term t**\n",
        "\n",
        "**N(t) = Number of documents containing the term t**\n",
        "\n",
        "Term frequency is the number of instances of a term in a single document only; although the frequency of the document is the number of separate documents in which the term appears, it depends on the entire corpus. \n",
        "\n",
        "The IDF of the word is the number of documents in the corpus separated by the frequency of the text.\n",
        "\n",
        "**idf(t) = N/ df(t) = N/N(t)**\n",
        "\n",
        "The more common word is supposed to be considered less significant, but the element (most definite integers) seems too harsh. We then take the logarithm (with base 2) of the inverse frequency of the paper. So the if of the term t becomes:\n",
        "\n",
        "**idf(t) = log(N/ df(t))**\n",
        "\n",
        "4. Computation: Tf-idf is one of the best metrics to determine how significant a term is to a text in a series or a corpus. tf-idf is a weighting system that assigns a weight to each word in a document based on its term frequency (tf) and the reciprocal document frequency (tf) (idf). The words with higher scores of weight are deemed to be more significant.\n",
        "\n",
        "Usually, the tf-idf weight consists of two terms-\n",
        "1. Normalized Term Frequency (tf)\n",
        "2. Inverse Document Frequency (idf)\n",
        "\n",
        "**tf-idf(t, d) = tf(t, d) * idf(t)**\n",
        "\n",
        " "
      ]
    },
    {
      "cell_type": "code",
      "metadata": {
        "id": "Tj6rsr3Zud8X"
      },
      "source": [
        "# import required module\n",
        "from sklearn.feature_extraction.text import TfidfVectorizer"
      ],
      "execution_count": 1,
      "outputs": []
    },
    {
      "cell_type": "code",
      "metadata": {
        "id": "sXImyCZzug11"
      },
      "source": [
        "# assign documents\n",
        "d0 = 'Python is a language'\n",
        "d1 = 'Python'\n",
        "d2 = 'doc'\n",
        "  \n",
        "# merge documents into a single corpus\n",
        "string = [d0, d1, d2]"
      ],
      "execution_count": 2,
      "outputs": []
    },
    {
      "cell_type": "code",
      "metadata": {
        "id": "jd8zdYwtwrt_"
      },
      "source": [
        "#Get tf-idf values from fit_transform() method.\n",
        "\n",
        "# create object\n",
        "tfidf = TfidfVectorizer()\n",
        "  \n",
        "# get tf-df values\n",
        "result = tfidf.fit_transform(string)"
      ],
      "execution_count": 3,
      "outputs": []
    },
    {
      "cell_type": "code",
      "metadata": {
        "colab": {
          "base_uri": "https://localhost:8080/"
        },
        "id": "7fTpQq4zwy_D",
        "outputId": "13a8e077-5d50-4454-b03f-6bf22db0c108"
      },
      "source": [
        "#Display idf values of the words present in the corpus.\n",
        "\n",
        "# get idf values\n",
        "print('\\nidf values:')\n",
        "for ele1, ele2 in zip(tfidf.get_feature_names(), tfidf.idf_):\n",
        "    print(ele1, ':', ele2)"
      ],
      "execution_count": 4,
      "outputs": [
        {
          "output_type": "stream",
          "name": "stdout",
          "text": [
            "\n",
            "idf values:\n",
            "doc : 1.6931471805599454\n",
            "is : 1.6931471805599454\n",
            "language : 1.6931471805599454\n",
            "python : 1.2876820724517808\n"
          ]
        }
      ]
    },
    {
      "cell_type": "code",
      "metadata": {
        "colab": {
          "base_uri": "https://localhost:8080/"
        },
        "id": "0dogzJLxw3_W",
        "outputId": "e912f085-f5c4-4d2f-ff03-96f7cb842e0b"
      },
      "source": [
        "#Display tf-idf values along with indexing.\n",
        "\n",
        "# get indexing\n",
        "print('\\nWord indexes:')\n",
        "print(tfidf.vocabulary_)\n",
        "  \n",
        "# display tf-idf values\n",
        "print('\\ntf-idf value:')\n",
        "print(result)\n",
        "  \n",
        "# in matrix form\n",
        "print('\\ntf-idf values in matrix form:')\n",
        "print(result.toarray())\n"
      ],
      "execution_count": 5,
      "outputs": [
        {
          "output_type": "stream",
          "name": "stdout",
          "text": [
            "\n",
            "Word indexes:\n",
            "{'python': 3, 'is': 1, 'language': 2, 'doc': 0}\n",
            "\n",
            "tf-idf value:\n",
            "  (0, 2)\t0.6227660078332259\n",
            "  (0, 1)\t0.6227660078332259\n",
            "  (0, 3)\t0.4736296010332684\n",
            "  (1, 3)\t1.0\n",
            "  (2, 0)\t1.0\n",
            "\n",
            "tf-idf values in matrix form:\n",
            "[[0.         0.62276601 0.62276601 0.4736296 ]\n",
            " [0.         0.         0.         1.        ]\n",
            " [1.         0.         0.         0.        ]]\n"
          ]
        }
      ]
    },
    {
      "cell_type": "markdown",
      "metadata": {
        "id": "kkc84dGtzLZs"
      },
      "source": [
        "Below are some examples which depict how to compute tf-idf values of words from a corpus:"
      ]
    },
    {
      "cell_type": "code",
      "metadata": {
        "colab": {
          "base_uri": "https://localhost:8080/"
        },
        "id": "01YRtZVmw-q0",
        "outputId": "140bfba7-170e-41b3-d5c9-b8bf2de826d1"
      },
      "source": [
        "# import required module\n",
        "from sklearn.feature_extraction.text import TfidfVectorizer\n",
        "  \n",
        "# assign documents\n",
        "d0 = 'Python is a programming language'\n",
        "d1 = 'Python'\n",
        "d2 = 'program'\n",
        "  \n",
        "# merge documents into a single corpus\n",
        "string = [d0, d1, d2]\n",
        "  \n",
        "# create object\n",
        "tfidf = TfidfVectorizer()\n",
        "  \n",
        "# get tf-df values\n",
        "result = tfidf.fit_transform(string)\n",
        "  \n",
        "# get idf values\n",
        "print('\\nidf values:')\n",
        "for ele1, ele2 in zip(tfidf.get_feature_names(), tfidf.idf_):\n",
        "    print(ele1, ':', ele2)\n",
        "  \n",
        "# get indexing\n",
        "print('\\nWord indexes:')\n",
        "print(tfidf.vocabulary_)\n",
        "  \n",
        "# display tf-idf values\n",
        "print('\\ntf-idf value:')\n",
        "print(result)\n",
        "  \n",
        "# in matrix form\n",
        "print('\\ntf-idf values in matrix form:')\n",
        "print(result.toarray())"
      ],
      "execution_count": 6,
      "outputs": [
        {
          "output_type": "stream",
          "name": "stdout",
          "text": [
            "\n",
            "idf values:\n",
            "is : 1.6931471805599454\n",
            "language : 1.6931471805599454\n",
            "program : 1.6931471805599454\n",
            "programming : 1.6931471805599454\n",
            "python : 1.2876820724517808\n",
            "\n",
            "Word indexes:\n",
            "{'python': 4, 'is': 0, 'programming': 3, 'language': 1, 'program': 2}\n",
            "\n",
            "tf-idf value:\n",
            "  (0, 1)\t0.5286346066596935\n",
            "  (0, 3)\t0.5286346066596935\n",
            "  (0, 0)\t0.5286346066596935\n",
            "  (0, 4)\t0.4020402441612698\n",
            "  (1, 4)\t1.0\n",
            "  (2, 2)\t1.0\n",
            "\n",
            "tf-idf values in matrix form:\n",
            "[[0.52863461 0.52863461 0.         0.52863461 0.40204024]\n",
            " [0.         0.         0.         0.         1.        ]\n",
            " [0.         0.         1.         0.         0.        ]]\n"
          ]
        }
      ]
    },
    {
      "cell_type": "markdown",
      "metadata": {
        "id": "k09NflEVzo-P"
      },
      "source": [
        "Example 2: Here, tf-idf values are computed from a corpus having unique values. \n",
        "\n"
      ]
    },
    {
      "cell_type": "code",
      "metadata": {
        "colab": {
          "base_uri": "https://localhost:8080/"
        },
        "id": "dQC5kT8qzcnB",
        "outputId": "670e5f37-3ffb-4d12-f39d-0c791a39d235"
      },
      "source": [
        "# assign documents\n",
        "doc0 = 'Python01'\n",
        "doc1 = 'Python02'\n",
        "doc2 = 'Python03'\n",
        "doc3 = 'Python04'\n",
        "  \n",
        "# merge documents into a single corpus\n",
        "string = [doc0, doc1, doc2, doc3]\n",
        "  \n",
        "# create object\n",
        "tfidf = TfidfVectorizer()\n",
        "  \n",
        "# get tf-df values\n",
        "result = tfidf.fit_transform(string)\n",
        "  \n",
        "# get indexing\n",
        "print('\\nWord indexes:')\n",
        "print(tfidf.vocabulary_)\n",
        "  \n",
        "# display tf-idf values\n",
        "print('\\ntf-idf values:')\n",
        "print(result)\n"
      ],
      "execution_count": 7,
      "outputs": [
        {
          "output_type": "stream",
          "name": "stdout",
          "text": [
            "\n",
            "Word indexes:\n",
            "{'python01': 0, 'python02': 1, 'python03': 2, 'python04': 3}\n",
            "\n",
            "tf-idf values:\n",
            "  (0, 0)\t1.0\n",
            "  (1, 1)\t1.0\n",
            "  (2, 2)\t1.0\n",
            "  (3, 3)\t1.0\n"
          ]
        }
      ]
    },
    {
      "cell_type": "markdown",
      "metadata": {
        "id": "Cx3ollzGz9f4"
      },
      "source": [
        "Example 3: In this program, tf-idf values are computed from a corpus having similar documents.\n"
      ]
    },
    {
      "cell_type": "code",
      "metadata": {
        "colab": {
          "base_uri": "https://localhost:8080/"
        },
        "id": "82ByxP7mzxU8",
        "outputId": "3af10ce9-8a4b-4e9e-fd1f-d3d8b1369a21"
      },
      "source": [
        "# assign documents\n",
        "doc0 = 'Python for coding!'\n",
        "doc1 = 'Python for coding!'\n",
        "\n",
        "# merge documents into a single corpus\n",
        "string = [doc0, doc1]\n",
        "  \n",
        "# create object\n",
        "tfidf = TfidfVectorizer()\n",
        "  \n",
        "# get tf-df values\n",
        "result = tfidf.fit_transform(string)\n",
        "  \n",
        "# get indexing\n",
        "print('\\nWord indexes:')\n",
        "print(tfidf.vocabulary_)\n",
        "  \n",
        "# display tf-idf values\n",
        "print('\\ntf-idf values:')\n",
        "print(result)"
      ],
      "execution_count": 8,
      "outputs": [
        {
          "output_type": "stream",
          "name": "stdout",
          "text": [
            "\n",
            "Word indexes:\n",
            "{'python': 2, 'for': 1, 'coding': 0}\n",
            "\n",
            "tf-idf values:\n",
            "  (0, 0)\t0.5773502691896258\n",
            "  (0, 1)\t0.5773502691896258\n",
            "  (0, 2)\t0.5773502691896258\n",
            "  (1, 0)\t0.5773502691896258\n",
            "  (1, 1)\t0.5773502691896258\n",
            "  (1, 2)\t0.5773502691896258\n"
          ]
        }
      ]
    },
    {
      "cell_type": "markdown",
      "metadata": {
        "id": "12fiq83l0M6s"
      },
      "source": [
        "Example 4: Below is the program in which we try to calculate tf-idf value of a single word geeks is repeated multiple times in multiple documents."
      ]
    },
    {
      "cell_type": "code",
      "metadata": {
        "colab": {
          "base_uri": "https://localhost:8080/"
        },
        "id": "nQaIeKhQ0Ef_",
        "outputId": "aa9ad174-9fb5-44f5-d753-e1729e9dff40"
      },
      "source": [
        "# assign corpus\n",
        "string = ['Python python']*5\n",
        "  \n",
        "# create object\n",
        "tfidf = TfidfVectorizer()\n",
        "  \n",
        "# get tf-df values\n",
        "result = tfidf.fit_transform(string)\n",
        "  \n",
        "# get indexing\n",
        "print('\\nWord indexes:')\n",
        "print(tfidf.vocabulary_)\n",
        "  \n",
        "# display tf-idf values\n",
        "print('\\ntf-idf values:')\n",
        "print(result)"
      ],
      "execution_count": 9,
      "outputs": [
        {
          "output_type": "stream",
          "name": "stdout",
          "text": [
            "\n",
            "Word indexes:\n",
            "{'python': 0}\n",
            "\n",
            "tf-idf values:\n",
            "  (0, 0)\t1.0\n",
            "  (1, 0)\t1.0\n",
            "  (2, 0)\t1.0\n",
            "  (3, 0)\t1.0\n",
            "  (4, 0)\t1.0\n"
          ]
        }
      ]
    },
    {
      "cell_type": "markdown",
      "metadata": {
        "id": "mILcXymr2C3A"
      },
      "source": [
        "--------------"
      ]
    }
  ]
}