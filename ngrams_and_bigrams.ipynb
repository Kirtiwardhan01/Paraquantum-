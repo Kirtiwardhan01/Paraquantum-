{
  "nbformat": 4,
  "nbformat_minor": 0,
  "metadata": {
    "colab": {
      "name": "ngrams and bigrams.ipynb",
      "provenance": [],
      "authorship_tag": "ABX9TyO8LqAjKjsgy9Tle3SNFYBn"
    },
    "kernelspec": {
      "name": "python3",
      "display_name": "Python 3"
    },
    "language_info": {
      "name": "python"
    }
  },
  "cells": [
    {
      "cell_type": "markdown",
      "metadata": {
        "id": "5E3deAQ3XHZg"
      },
      "source": [
        "###What the term ‘N-gram’ means and why do we need them?\n",
        "\n",
        "N-gram is simply a sequence of N words from a given sample of text or speech. They are basically a set of co-occurring words within a given window and when computing the n-grams you typically move one word forward (although you can move X words forward in more advanced scenarios).\n",
        "\n",
        "For example, for the sentence **“The cow jumps over the moon”** \n",
        "If N=2 then the ngrams would be known as **bigrams**\n",
        "\n",
        "If N=3, the n-grams would be known as **trigrams**\n",
        "\n",
        "If  N=1, this is referred to as **unigrams** and this is essentially the individual words in a sentence. \n",
        "\n",
        "When N>3 this is usually referred to as four grams or five grams and so on\n"
      ]
    },
    {
      "cell_type": "markdown",
      "metadata": {
        "id": "Bg_jhiaxhaIE"
      },
      "source": [
        "How many N-grams in a sentence?\n",
        "\n",
        "If X = Number of words in a given sentence K, the number of n-grams for sentence K would be:\n",
        "\n",
        "![image.png](data:image/png;base64,iVBORw0KGgoAAAANSUhEUgAAAMsAAAATCAYAAAA+lvlxAAAE8ElEQVRoBe2ajU3tMAyFGYEZGIEZGIEZGIEZGIEZGIEZGIEZWKHoy/OJXDdpey9pU3hFqpIm/ot9bOdW3Nycf6cHGnng6+treHl5GRqJ6ypm1Tmen5+Hu7s7Djx8fn6ODo4znp6e0t7Dw8Pw/v4+2u96uv9AOf4nPre3tykGj4+PA2s6+tvbW1pnP+6JZssRnTX5vw1XDuu1I/1bJ6twuCXGhHjOKRPic6G5B6zqFYsZRay5whUCsWmpeB4NV9h7f38/fHx8FH1G8Xl9fS3uZZdA4CpYXmdCxi0KGHGcL609YN0kxcjLJmb+fc85oFvSdxRccWMicS1JNBbNnz0XAnjsCjZYa8+CyMZ4Pcub52Q3D9Dd7TqWdPZMlDUV+MC4mk0W/BpzIAfZdw2yKrZ1uwJk+nPSxwOqigSSmPjfLntbBEaWCuiBcTWbLDSH6s8OnwyWUaNA+P0YFAJGJuIYHt59EFHMvrqTaHn3stDBg37X5RIJctmTfOniQNCiDz4erXnZmotP41KwxXekkQ8xdJfetvsOV/OPx82luKrJbLQ+myzoqJ7PH8qMSeCUYYBLcz8SMDqRkoMRJZ4eJ0FHkEkU+Bl95lKlPA97ujfCS2KRFCXZ0FkgkmnMY2dkg3WvQ0nrz/PTOR9HsH3NI19cqlNfJnsni309nTX/WlzNCm2zuZgsfBmeqBIY/QYBUWapI/h9zSNQbT1XPQBKAiEDeUoqLxMAR3ADNoFJiQBdDFBpjQDBLxs1Ig977SqTPlpojxHbODc6fFKpAMAv+z3fnnP8Zv6ofrXcwx4wo2JW0/cTXNVkNlzPOKjJ9HjNNB4YWjRAJZCX9qEjcDH7lBSSI3ABNKuI2spj7BZssGbyMx38SiAtkhSxepF4cQ16gmfJlhJXSShZjCU7OT+8nq7HnJjIZs6Njy61A5/inzVPLe7oxJalZCnxr8FVPFMrm4PcxWQBK8Jv5i0Bi02IS2AUI3zRYYCtVNWhU6DFz2ggHIFRDvV0zEsJxJrRJ3I73EhelINOS7oJ2ACR7ERWKeBR3h7v2OxtkY/82h52SAe+scKjpcl4La4mgrZZGOGmpKJYjGqHsvVRkLxQKn3sFiRFDKAAbKMXkSpU7E7oBbQQqrsoqTxzaQ3dSmDxwlNK1qIz7D8YAGPsYl53bY4/KBZrnrXy8VuJljPprDV7tlyv+C+rvBZXWcC2k8uTBUBFcMtGgdxXbu0xUoF9FzE5k6oO3VxQvdPRCa3AIdt8EsgG1pRUWgOsCpJ42fN28s65RSdezokt7KF/qXKKb8uRghBtlz4732LQRd96JE6lAoien+CqtZ0VeZNrvqfD7yNsASzAASh09fAMzGPniPuAiqDBD/g88EXLegSm9hhxLHqQwQNoeUeuggG/Bz986I52C+ildfakI8pCHmv4wjpWuoZGOd7uLef4wIKVfBoLFu9WgJLNc/7dyk50lvzTAldb2AyWwIwVn1yUo2/RDRZKGGlmlzOkmcw9BeFE7yDmcx1xT9uOqGuu6x3R3ktsolCpUF/Ct5p2rkOtFtKRkK4Yq0xpraOJh1O9Oag6nLh5EaAF+6pLO/bvHc54tUoqiF1jRp0Fp1EAOJeuZlcr+aOM+GXpqv7bjs55mnYVkgOhjFxXuIL9Nqec9rbxgH4LtpHWVwpYjreLvhad2v+cB/5K5y2d4xuyrtj1u+UhYQAAAABJRU5ErkJggg==)\n"
      ]
    },
    {
      "cell_type": "code",
      "metadata": {
        "colab": {
          "base_uri": "https://localhost:8080/",
          "height": 120
        },
        "id": "P5GZceMJWc80",
        "outputId": "7aefcbad-0aaf-4cdd-bc55-4409c315784b"
      },
      "source": [
        "#Let's look at example\n",
        "from nltk import ngrams\n",
        "\n",
        "sentence = 'The cow jumps over the moon'    \n",
        "my_grams = ngrams(sentence.split(), 2)\n",
        "\n",
        "for grams in my_grams:\n",
        "  print(grams)\n",
        "\n",
        "'''So you can see that it's an example of bigram'''"
      ],
      "execution_count": 1,
      "outputs": [
        {
          "output_type": "stream",
          "name": "stdout",
          "text": [
            "('The', 'cow')\n",
            "('cow', 'jumps')\n",
            "('jumps', 'over')\n",
            "('over', 'the')\n",
            "('the', 'moon')\n"
          ]
        },
        {
          "output_type": "execute_result",
          "data": {
            "application/vnd.google.colaboratory.intrinsic+json": {
              "type": "string"
            },
            "text/plain": [
              "\"So you can see that it's an example of bigram\""
            ]
          },
          "metadata": {},
          "execution_count": 1
        }
      ]
    },
    {
      "cell_type": "code",
      "metadata": {
        "colab": {
          "base_uri": "https://localhost:8080/",
          "height": 103
        },
        "id": "Om8Cw4i3XwlR",
        "outputId": "c4313ab8-4d89-46a7-89ec-061673a31882"
      },
      "source": [
        "sentence = 'The cow jumps over the moon'      \n",
        "my_grams = ngrams(sentence.split(), 3)\n",
        "\n",
        "for grams in my_grams:\n",
        "  print(grams)\n",
        "\n",
        "'''So you can see that it's an example of trigram'''"
      ],
      "execution_count": 2,
      "outputs": [
        {
          "output_type": "stream",
          "name": "stdout",
          "text": [
            "('The', 'cow', 'jumps')\n",
            "('cow', 'jumps', 'over')\n",
            "('jumps', 'over', 'the')\n",
            "('over', 'the', 'moon')\n"
          ]
        },
        {
          "output_type": "execute_result",
          "data": {
            "application/vnd.google.colaboratory.intrinsic+json": {
              "type": "string"
            },
            "text/plain": [
              "\"So you can see that it's an example of trigram\""
            ]
          },
          "metadata": {},
          "execution_count": 2
        }
      ]
    },
    {
      "cell_type": "markdown",
      "metadata": {
        "id": "xgiy70_eg10B"
      },
      "source": [
        "###Using Regular expressions"
      ]
    },
    {
      "cell_type": "code",
      "metadata": {
        "id": "Wdhnx7pbfx6w"
      },
      "source": [
        "import re\n",
        "\n",
        "def generate_ngrams(text,n):\n",
        "\n",
        "    # split sentences into tokens\n",
        "    tokens=re.split(\"\\\\s+\",text)\n",
        "    ngrams=[]\n",
        "\n",
        "    # collect the n-grams\n",
        "    for i in range(len(tokens)-n+1):\n",
        "       temp=[tokens[j] for j in range(i,i+n)]\n",
        "       ngrams.append(\" \".join(temp))\n",
        "\n",
        "    return ngrams"
      ],
      "execution_count": 3,
      "outputs": []
    },
    {
      "cell_type": "code",
      "metadata": {
        "colab": {
          "base_uri": "https://localhost:8080/"
        },
        "id": "SXMgN_wLgnWM",
        "outputId": "e353e95a-80f4-4e55-a19c-5a0762c5691e"
      },
      "source": [
        "generate_ngrams(\"the quick person did not realize his speed and the quick person bumped \",3)"
      ],
      "execution_count": 4,
      "outputs": [
        {
          "output_type": "execute_result",
          "data": {
            "text/plain": [
              "['the quick person',\n",
              " 'quick person did',\n",
              " 'person did not',\n",
              " 'did not realize',\n",
              " 'not realize his',\n",
              " 'realize his speed',\n",
              " 'his speed and',\n",
              " 'speed and the',\n",
              " 'and the quick',\n",
              " 'the quick person',\n",
              " 'quick person bumped',\n",
              " 'person bumped ']"
            ]
          },
          "metadata": {},
          "execution_count": 4
        }
      ]
    },
    {
      "cell_type": "code",
      "metadata": {
        "colab": {
          "base_uri": "https://localhost:8080/"
        },
        "id": "pPadgEMqgzBj",
        "outputId": "62e087ad-9037-416d-f644-d37c81715e50"
      },
      "source": [
        "generate_ngrams('The cow jumps over the moon',2)"
      ],
      "execution_count": 5,
      "outputs": [
        {
          "output_type": "execute_result",
          "data": {
            "text/plain": [
              "['The cow', 'cow jumps', 'jumps over', 'over the', 'the moon']"
            ]
          },
          "metadata": {},
          "execution_count": 5
        }
      ]
    }
  ]
}